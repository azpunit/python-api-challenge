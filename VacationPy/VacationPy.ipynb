{
 "cells": [
  {
   "cell_type": "markdown",
   "metadata": {},
   "source": [
    "# VacationPy\n",
    "----\n",
    "\n",
    "#### Note\n",
    "* Instructions have been included for each segment. You do not have to follow them exactly, but they are included to help you think through the steps."
   ]
  },
  {
   "cell_type": "code",
   "execution_count": 11,
   "metadata": {},
   "outputs": [],
   "source": [
    "# Dependencies and Setup\n",
    "import matplotlib.pyplot as plt\n",
    "import pandas as pd\n",
    "import numpy as np\n",
    "import requests\n",
    "import gmaps\n",
    "import os\n",
    "\n",
    "# Import API key\n",
    "from api_keys import g_key"
   ]
  },
  {
   "cell_type": "markdown",
   "metadata": {},
   "source": [
    "### Store Part I results into DataFrame\n",
    "* Load the csv exported in Part I to a DataFrame"
   ]
  },
  {
   "cell_type": "code",
   "execution_count": 19,
   "metadata": {},
   "outputs": [],
   "source": [
    "# Importing our CSV file from Part 1.\n",
    "vacation_weather_df = pd.read_csv(\"/Users/azpunit/Desktop/python-api-challenge/WeatherPy/final_output_data/City_Data.csv\")"
   ]
  },
  {
   "cell_type": "markdown",
   "metadata": {},
   "source": [
    "### Humidity Heatmap\n",
    "* Configure gmaps.\n",
    "* Use the Lat and Lng as locations and Humidity as the weight.\n",
    "* Add Heatmap layer to map."
   ]
  },
  {
   "cell_type": "code",
   "execution_count": 13,
   "metadata": {},
   "outputs": [],
   "source": [
    "# Configuring gmaps.\n",
    "gmaps.configure(api_key=g_key)"
   ]
  },
  {
   "cell_type": "code",
   "execution_count": 37,
   "metadata": {},
   "outputs": [
    {
     "output_type": "display_data",
     "data": {
      "text/plain": "Figure(layout=FigureLayout(border='1px solid black', height='600px', margin='0 auto 0 auto', padding='1px', wi…",
      "application/vnd.jupyter.widget-view+json": {
       "version_major": 2,
       "version_minor": 0,
       "model_id": "f87272dc0ceb42d8a350aac40e477d0a"
      }
     },
     "metadata": {}
    }
   ],
   "source": [
    "# Plotting our heatmap.\n",
    "lat_lng_loc = vacation_weather_df[[\"Lat\", \"Lng\"]]\n",
    "humidity = vacation_weather_df[\"Humidity\"]\n",
    "\n",
    "layout = {\"width\": \"900px\",\n",
    "          \"height\": \"600px\",\n",
    "          \"border\": \"1px solid black\",\n",
    "          \"padding\": \"1px\",\n",
    "          \"margin\": \"0 auto 0 auto\"\n",
    "          }\n",
    "\n",
    "my_gmap = gmaps.figure(layout=figure_layout, zoom_level=2, center=(15,25))\n",
    "heat_structure = gmaps.heatmap_layer(lat_lng_loc, weights=humidity, \n",
    "                                 dissipating=False, max_intensity=100,\n",
    "                                 point_radius=1.5)\n",
    "\n",
    "my_gmap.add_layer(heat_structure)\n",
    "my_gmap"
   ]
  },
  {
   "cell_type": "markdown",
   "metadata": {},
   "source": [
    "### Create new DataFrame fitting weather criteria\n",
    "* Narrow down the cities to fit weather conditions.\n",
    "* Drop any rows will null values."
   ]
  },
  {
   "cell_type": "code",
   "execution_count": 36,
   "metadata": {},
   "outputs": [
    {
     "output_type": "execute_result",
     "data": {
      "text/plain": "     City_ID                City  Cloudiness Country        Date  Humidity  \\\n91        91        Ponta do Sol           0      PT  1595626248        61   \n128      128               Jales           0      BR  1595625960        32   \n177      177  Ribas do Rio Pardo           0      BR  1595626258        33   \n194      194              Beyneu           0      KZ  1595626260        42   \n214      214             Naviraí           0      BR  1595626110        43   \n224      224             Huilong           0      CN  1595626264        91   \n320      320              Mizdah           0      LY  1595626273        44   \n341      341              Tūkrah           0      LY  1595626276        84   \n350      350           Ust-Kuyga           0      RU  1595626276        48   \n357      357            Ilhabela           0      BR  1595626277        76   \n\n       Lat     Lng  Max Temp  Wind Speed  \n91   32.67  -17.10     71.01        3.94  \n128 -20.27  -50.55     74.89        5.84  \n177 -20.44  -53.76     75.31        2.82  \n194  45.32   55.20     76.86        7.76  \n214 -23.07  -54.19     76.77        5.55  \n224  31.81  121.66     75.00        9.64  \n320  31.45   12.98     73.45        9.62  \n341  32.53   20.58     75.96        5.23  \n350  70.02  135.60     76.86        2.48  \n357 -23.78  -45.36     70.23        5.28  ",
      "text/html": "<div>\n<style scoped>\n    .dataframe tbody tr th:only-of-type {\n        vertical-align: middle;\n    }\n\n    .dataframe tbody tr th {\n        vertical-align: top;\n    }\n\n    .dataframe thead th {\n        text-align: right;\n    }\n</style>\n<table border=\"1\" class=\"dataframe\">\n  <thead>\n    <tr style=\"text-align: right;\">\n      <th></th>\n      <th>City_ID</th>\n      <th>City</th>\n      <th>Cloudiness</th>\n      <th>Country</th>\n      <th>Date</th>\n      <th>Humidity</th>\n      <th>Lat</th>\n      <th>Lng</th>\n      <th>Max Temp</th>\n      <th>Wind Speed</th>\n    </tr>\n  </thead>\n  <tbody>\n    <tr>\n      <th>91</th>\n      <td>91</td>\n      <td>Ponta do Sol</td>\n      <td>0</td>\n      <td>PT</td>\n      <td>1595626248</td>\n      <td>61</td>\n      <td>32.67</td>\n      <td>-17.10</td>\n      <td>71.01</td>\n      <td>3.94</td>\n    </tr>\n    <tr>\n      <th>128</th>\n      <td>128</td>\n      <td>Jales</td>\n      <td>0</td>\n      <td>BR</td>\n      <td>1595625960</td>\n      <td>32</td>\n      <td>-20.27</td>\n      <td>-50.55</td>\n      <td>74.89</td>\n      <td>5.84</td>\n    </tr>\n    <tr>\n      <th>177</th>\n      <td>177</td>\n      <td>Ribas do Rio Pardo</td>\n      <td>0</td>\n      <td>BR</td>\n      <td>1595626258</td>\n      <td>33</td>\n      <td>-20.44</td>\n      <td>-53.76</td>\n      <td>75.31</td>\n      <td>2.82</td>\n    </tr>\n    <tr>\n      <th>194</th>\n      <td>194</td>\n      <td>Beyneu</td>\n      <td>0</td>\n      <td>KZ</td>\n      <td>1595626260</td>\n      <td>42</td>\n      <td>45.32</td>\n      <td>55.20</td>\n      <td>76.86</td>\n      <td>7.76</td>\n    </tr>\n    <tr>\n      <th>214</th>\n      <td>214</td>\n      <td>Naviraí</td>\n      <td>0</td>\n      <td>BR</td>\n      <td>1595626110</td>\n      <td>43</td>\n      <td>-23.07</td>\n      <td>-54.19</td>\n      <td>76.77</td>\n      <td>5.55</td>\n    </tr>\n    <tr>\n      <th>224</th>\n      <td>224</td>\n      <td>Huilong</td>\n      <td>0</td>\n      <td>CN</td>\n      <td>1595626264</td>\n      <td>91</td>\n      <td>31.81</td>\n      <td>121.66</td>\n      <td>75.00</td>\n      <td>9.64</td>\n    </tr>\n    <tr>\n      <th>320</th>\n      <td>320</td>\n      <td>Mizdah</td>\n      <td>0</td>\n      <td>LY</td>\n      <td>1595626273</td>\n      <td>44</td>\n      <td>31.45</td>\n      <td>12.98</td>\n      <td>73.45</td>\n      <td>9.62</td>\n    </tr>\n    <tr>\n      <th>341</th>\n      <td>341</td>\n      <td>Tūkrah</td>\n      <td>0</td>\n      <td>LY</td>\n      <td>1595626276</td>\n      <td>84</td>\n      <td>32.53</td>\n      <td>20.58</td>\n      <td>75.96</td>\n      <td>5.23</td>\n    </tr>\n    <tr>\n      <th>350</th>\n      <td>350</td>\n      <td>Ust-Kuyga</td>\n      <td>0</td>\n      <td>RU</td>\n      <td>1595626276</td>\n      <td>48</td>\n      <td>70.02</td>\n      <td>135.60</td>\n      <td>76.86</td>\n      <td>2.48</td>\n    </tr>\n    <tr>\n      <th>357</th>\n      <td>357</td>\n      <td>Ilhabela</td>\n      <td>0</td>\n      <td>BR</td>\n      <td>1595626277</td>\n      <td>76</td>\n      <td>-23.78</td>\n      <td>-45.36</td>\n      <td>70.23</td>\n      <td>5.28</td>\n    </tr>\n  </tbody>\n</table>\n</div>"
     },
     "metadata": {},
     "execution_count": 36
    }
   ],
   "source": [
    "# Creating a new Dataframe filling weather criteria.\n",
    "columns = [\"City_ID\", \"City\", \"Cloudiness\", \"Country\", \"Date\", \"Humidity\", \"Lat\", \"Lng\", \"Max Temp\", \"Wind Speed\"]\n",
    "\n",
    "intermediary_vacation_weather_df = vacation_weather_df.loc[(vacation_weather_df[\"Max Temp\"] < 80) &\n",
    "                                                           (vacation_weather_df[\"Max Temp\"] > 70) &    \n",
    "                                                           (vacation_weather_df[\"Wind Speed\"] < 10) &                                        \n",
    "                                                           (vacation_weather_df[\"Cloudiness\"] == 0), columns]\n",
    "\n",
    "final_vacation_weather_df = intermediary_vacation_weather_df.head(10)\n",
    "final_vacation_weather_df"
   ]
  },
  {
   "cell_type": "markdown",
   "metadata": {},
   "source": [
    "### Hotel Map\n",
    "* Store into variable named `hotel_df`.\n",
    "* Add a \"Hotel Name\" column to the DataFrame.\n",
    "* Set parameters to search for hotels with 5000 meters.\n",
    "* Hit the Google Places API for each city's coordinates.\n",
    "* Store the first Hotel result into the DataFrame.\n",
    "* Plot markers on top of the heatmap."
   ]
  },
  {
   "cell_type": "code",
   "execution_count": 27,
   "metadata": {},
   "outputs": [],
   "source": [
    "# store dataframe into the variable name hotel_df.\n",
    "hotel_df = final_vacation_weather_df\n",
    "hotel_df[\"Hotel Name\"] = \"\""
   ]
  },
  {
   "cell_type": "code",
   "execution_count": 29,
   "metadata": {
    "tags": []
   },
   "outputs": [
    {
     "output_type": "stream",
     "name": "stdout",
     "text": "Missing field/result... skipping.\nMissing field/result... skipping.\nMissing field/result... skipping.\nMissing field/result... skipping.\nMissing field/result... skipping.\nMissing field/result... skipping.\nMissing field/result... skipping.\nMissing field/result... skipping.\nMissing field/result... skipping.\nMissing field/result... skipping.\nMissing field/result... skipping.\nMissing field/result... skipping.\nMissing field/result... skipping.\nMissing field/result... skipping.\nMissing field/result... skipping.\nMissing field/result... skipping.\n"
    }
   ],
   "source": [
    "import json\n",
    "\n",
    "# search for hotels within 5000 meters.\n",
    "params = {\"radius\": 5000,\n",
    "          \"types\": \"lodging\",\n",
    "          \"keyword\": \"Hotel\",\n",
    "          \"key\": g_key\n",
    "          }\n",
    "\n",
    "for index, row in hotel_df.iterrows():\n",
    "    lat = row[\"Lat\"]\n",
    "    lng = row[\"Lng\"]\n",
    "\n",
    "    params[\"location\"] = f\"{lat},{lng}\"\n",
    "    base_url = \"https://maps.googleapis.com/maps/api/place/nearbysearch/json\"\n",
    "    hotel_address = requests.get(base_url, params=params)\n",
    "    \n",
    "    hotel_address = hotel_address.json()\n",
    "\n",
    "    try:\n",
    "        hotel_df.loc[index, \"Hotel Name\"] = hotel_address[\"results\"][0][\"name\"]\n",
    "    except (KeyError, IndexError):\n",
    "        print(\"Missing field/result... skipping.\")"
   ]
  },
  {
   "cell_type": "code",
   "execution_count": 31,
   "metadata": {},
   "outputs": [],
   "source": [
    "# NOTE: Do not change any of the code in this cell\n",
    "\n",
    "# Using the template add the hotel marks to the heatmap\n",
    "info_box_template = \"\"\"\n",
    "<dl>\n",
    "<dt>Name</dt><dd>{Hotel Name}</dd>\n",
    "<dt>City</dt><dd>{City}</dd>\n",
    "<dt>Country</dt><dd>{Country}</dd>\n",
    "</dl>\n",
    "\"\"\"\n",
    "# Storing the DataFrame Row\n",
    "# NOTE: be sure to update with your DataFrame name\n",
    "hotel_info = [info_box_template.format(**row) for index, row in hotel_df.iterrows()]\n",
    "locations = hotel_df[[\"Lat\", \"Lng\"]]"
   ]
  },
  {
   "cell_type": "code",
   "execution_count": 33,
   "metadata": {},
   "outputs": [
    {
     "output_type": "display_data",
     "data": {
      "text/plain": "Figure(layout=FigureLayout(border='1px solid black', height='600px', margin='0 auto 0 auto', padding='1px', wi…",
      "application/vnd.jupyter.widget-view+json": {
       "version_major": 2,
       "version_minor": 0,
       "model_id": "0ba1bb070fee42c3a4b3a88824ed545b"
      }
     },
     "metadata": {}
    }
   ],
   "source": [
    "# Add marker layer ontop of heat map\n",
    "\n",
    "figure_layout = {\"width\": \"900px\",\n",
    "                 \"height\": \"600px\",\n",
    "                 \"border\": \"1px solid black\",\n",
    "                 \"padding\": \"1px\",\n",
    "                 \"margin\": \"0 auto 0 auto\"\n",
    "                 }\n",
    "\n",
    "my_gmap = gmaps.figure(layout=figure_layout, zoom_level=2, center=(15,25))\n",
    "\n",
    "hotel_layer_mark = gmaps.marker_layer(locations, info_box_content=hotel_info)\n",
    "\n",
    "my_gmap.add_layer(hotel_layer_mark)\n",
    "my_gmap.add_layer(hotel_layer_mark)\n",
    "\n",
    "# Display figure\n",
    "my_gmap"
   ]
  }
 ],
 "metadata": {
  "kernelspec": {
   "display_name": "Python 3.8.3 64-bit",
   "language": "python",
   "name": "python_defaultSpec_1595675422866"
  },
  "language_info": {
   "codemirror_mode": {
    "name": "ipython",
    "version": 3
   },
   "file_extension": ".py",
   "mimetype": "text/x-python",
   "name": "python",
   "nbconvert_exporter": "python",
   "pygments_lexer": "ipython3",
   "version": "3.7.6"
  },
  "latex_envs": {
   "LaTeX_envs_menu_present": true,
   "autoclose": false,
   "autocomplete": true,
   "bibliofile": "biblio.bib",
   "cite_by": "apalike",
   "current_citInitial": 1,
   "eqLabelWithNumbers": true,
   "eqNumInitial": 1,
   "hotkeys": {
    "equation": "Ctrl-E",
    "itemize": "Ctrl-I"
   },
   "labels_anchors": false,
   "latex_user_defs": false,
   "report_style_numbering": false,
   "user_envs_cfg": false
  }
 },
 "nbformat": 4,
 "nbformat_minor": 2
}