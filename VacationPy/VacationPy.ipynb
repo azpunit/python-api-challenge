{
 "cells": [
  {
   "cell_type": "markdown",
   "metadata": {},
   "source": [
    "# VacationPy\n",
    "----\n",
    "\n",
    "#### Note\n",
    "* Instructions have been included for each segment. You do not have to follow them exactly, but they are included to help you think through the steps."
   ]
  },
  {
   "cell_type": "code",
   "execution_count": 38,
   "metadata": {},
   "outputs": [],
   "source": [
    "# Dependencies and Setup.\n",
    "import matplotlib.pyplot as plt\n",
    "import pandas as pd\n",
    "import numpy as np\n",
    "import requests\n",
    "import gmaps\n",
    "import os\n",
    "\n",
    "# Importing our API key.\n",
    "from api_keys import g_key"
   ]
  },
  {
   "cell_type": "markdown",
   "metadata": {},
   "source": [
    "### Store Part I results into DataFrame\n",
    "* Load the csv exported in Part I to a DataFrame"
   ]
  },
  {
   "cell_type": "code",
   "execution_count": 103,
   "metadata": {},
   "outputs": [],
   "source": [
    "# Importing our CSV file from Part 1.\n",
    "vacation_weather_df = pd.read_csv(\"/Users/azpunit/Desktop/python-api-challenge/WeatherPy/final_output_data/City_Data.csv\")"
   ]
  },
  {
   "cell_type": "markdown",
   "metadata": {},
   "source": [
    "### Humidity Heatmap\n",
    "* Configure gmaps.\n",
    "* Use the Lat and Lng as locations and Humidity as the weight.\n",
    "* Add Heatmap layer to map."
   ]
  },
  {
   "cell_type": "code",
   "execution_count": 40,
   "metadata": {},
   "outputs": [],
   "source": [
    "# Configuring our gmap.\n",
    "gmaps.configure(api_key=g_key)"
   ]
  },
  {
   "cell_type": "code",
   "execution_count": 104,
   "metadata": {},
   "outputs": [
    {
     "output_type": "display_data",
     "data": {
      "text/plain": "Figure(layout=FigureLayout(border='1px solid black', height='600px', margin='0 auto 0 auto', padding='1px', wi…",
      "application/vnd.jupyter.widget-view+json": {
       "version_major": 2,
       "version_minor": 0,
       "model_id": "aaf0925622f24e2cb76792160e0d67c5"
      }
     },
     "metadata": {}
    }
   ],
   "source": [
    "# Plotting our heatmap.\n",
    "lat_lng_loc = vacation_weather_df[[\"Lat\", \"Lng\"]]\n",
    "humidity = vacation_weather_df[\"Humidity\"]\n",
    "\n",
    "layout = {\"width\": \"900px\",\n",
    "          \"height\": \"600px\",\n",
    "          \"border\": \"1px solid black\",\n",
    "          \"padding\": \"1px\",\n",
    "          \"margin\": \"0 auto 0 auto\"\n",
    "          }\n",
    "\n",
    "my_gmap = gmaps.figure(layout=figure_layout, zoom_level=2, center=(15,25))\n",
    "heat_structure = gmaps.heatmap_layer(lat_lng_loc, weights=humidity, \n",
    "                                 dissipating=False, max_intensity=100,\n",
    "                                 point_radius=3.5)\n",
    "\n",
    "my_gmap.add_layer(heat_structure)\n",
    "my_gmap"
   ]
  },
  {
   "cell_type": "markdown",
   "metadata": {},
   "source": [
    "### Create new DataFrame fitting weather criteria\n",
    "* Narrow down the cities to fit weather conditions.\n",
    "* Drop any rows will null values."
   ]
  },
  {
   "cell_type": "code",
   "execution_count": 114,
   "metadata": {},
   "outputs": [],
   "source": [
    "# Creating a new data frame filling the weather criteria given to us.\n",
    "columns = [\"City_ID\", \"City\", \"Cloudiness\", \"Country\", \"Date\", \"Humidity\", \"Lat\", \"Lng\", \"Max Temp\", \"Wind Speed\"]\n",
    "\n",
    "intermediary_vacation_weather_df = vacation_weather_df.loc[(vacation_weather_df[\"Max Temp\"] < 80) &\n",
    "                                                           (vacation_weather_df[\"Max Temp\"] > 70) &    \n",
    "                                                           (vacation_weather_df[\"Wind Speed\"] < 10) &                                        \n",
    "                                                           (vacation_weather_df[\"Cloudiness\"] == 0), columns]\n",
    "\n",
    "final_vacation_weather_df = intermediary_vacation_weather_df.dropna()"
   ]
  },
  {
   "cell_type": "markdown",
   "metadata": {},
   "source": [
    "### Hotel Map\n",
    "* Store into variable named `hotel_df`.\n",
    "* Add a \"Hotel Name\" column to the DataFrame.\n",
    "* Set parameters to search for hotels with 5000 meters.\n",
    "* Hit the Google Places API for each city's coordinates.\n",
    "* Store the first Hotel result into the DataFrame.\n",
    "* Plot markers on top of the heatmap."
   ]
  },
  {
   "cell_type": "code",
   "execution_count": 115,
   "metadata": {
    "tags": []
   },
   "outputs": [
    {
     "output_type": "stream",
     "name": "stdout",
     "text": "Missing field/result... skipping.\n"
    }
   ],
   "source": [
    "# Importing json, Storing our dataframe into the variable name hotel_df and searching for hotels within 5000 meters.\n",
    "import json\n",
    "\n",
    "hotel_df = final_vacation_weather_df\n",
    "hotel_df[\"Hotel Name\"] = \"\"\n",
    "\n",
    "params = {\"radius\": 5000,\n",
    "          \"types\": \"lodging\",\n",
    "          \"keyword\": \"Hotel\",\n",
    "          \"key\": g_key\n",
    "          }\n",
    "\n",
    "for index, row in hotel_df.iterrows():\n",
    "    lat = row[\"Lat\"]\n",
    "    lng = row[\"Lng\"]\n",
    "\n",
    "    params[\"location\"] = f\"{lat},{lng}\"\n",
    "    base_url = \"https://maps.googleapis.com/maps/api/place/nearbysearch/json\"\n",
    "    hotel_address = requests.get(base_url, params=params)\n",
    "    \n",
    "    hotel_address = hotel_address.json()\n",
    "\n",
    "    try:\n",
    "        hotel_df.loc[index, \"Hotel Name\"] = hotel_address[\"results\"][0][\"name\"]\n",
    "    except (KeyError, IndexError):\n",
    "        print(\"Missing field/result... skipping.\")"
   ]
  },
  {
   "cell_type": "code",
   "execution_count": 116,
   "metadata": {},
   "outputs": [
    {
     "output_type": "execute_result",
     "data": {
      "text/plain": "                   City Country    Lat     Lng                  Hotel Name\n91         Ponta do Sol      PT  32.67  -17.10             Palace of Zinos\n128               Jales      BR -20.27  -50.55        Regional Plaza Hotel\n177  Ribas do Rio Pardo      BR -20.44  -53.76          Maqueza Park Hotel\n194              Beyneu      KZ  45.32   55.20               HOTEL \"AKNUR\"\n214             Naviraí      BR -23.07  -54.19           Hotel Villa Verde\n224             Huilong      CN  31.81  121.66    Hilton Garden Inn Qidong\n320              Mizdah      LY  31.45   12.98            فندق مزدة الكبير\n341              Tūkrah      LY  32.53   20.58             قاعدة فيقا فيقا\n357            Ilhabela      BR -23.78  -45.36             Ilha Flat Hotel\n472               Mahon      ES  39.89    4.27  Casa Ládico Boutique Hotel",
      "text/html": "<div>\n<style scoped>\n    .dataframe tbody tr th:only-of-type {\n        vertical-align: middle;\n    }\n\n    .dataframe tbody tr th {\n        vertical-align: top;\n    }\n\n    .dataframe thead th {\n        text-align: right;\n    }\n</style>\n<table border=\"1\" class=\"dataframe\">\n  <thead>\n    <tr style=\"text-align: right;\">\n      <th></th>\n      <th>City</th>\n      <th>Country</th>\n      <th>Lat</th>\n      <th>Lng</th>\n      <th>Hotel Name</th>\n    </tr>\n  </thead>\n  <tbody>\n    <tr>\n      <th>91</th>\n      <td>Ponta do Sol</td>\n      <td>PT</td>\n      <td>32.67</td>\n      <td>-17.10</td>\n      <td>Palace of Zinos</td>\n    </tr>\n    <tr>\n      <th>128</th>\n      <td>Jales</td>\n      <td>BR</td>\n      <td>-20.27</td>\n      <td>-50.55</td>\n      <td>Regional Plaza Hotel</td>\n    </tr>\n    <tr>\n      <th>177</th>\n      <td>Ribas do Rio Pardo</td>\n      <td>BR</td>\n      <td>-20.44</td>\n      <td>-53.76</td>\n      <td>Maqueza Park Hotel</td>\n    </tr>\n    <tr>\n      <th>194</th>\n      <td>Beyneu</td>\n      <td>KZ</td>\n      <td>45.32</td>\n      <td>55.20</td>\n      <td>HOTEL \"AKNUR\"</td>\n    </tr>\n    <tr>\n      <th>214</th>\n      <td>Naviraí</td>\n      <td>BR</td>\n      <td>-23.07</td>\n      <td>-54.19</td>\n      <td>Hotel Villa Verde</td>\n    </tr>\n    <tr>\n      <th>224</th>\n      <td>Huilong</td>\n      <td>CN</td>\n      <td>31.81</td>\n      <td>121.66</td>\n      <td>Hilton Garden Inn Qidong</td>\n    </tr>\n    <tr>\n      <th>320</th>\n      <td>Mizdah</td>\n      <td>LY</td>\n      <td>31.45</td>\n      <td>12.98</td>\n      <td>فندق مزدة الكبير</td>\n    </tr>\n    <tr>\n      <th>341</th>\n      <td>Tūkrah</td>\n      <td>LY</td>\n      <td>32.53</td>\n      <td>20.58</td>\n      <td>قاعدة فيقا فيقا</td>\n    </tr>\n    <tr>\n      <th>357</th>\n      <td>Ilhabela</td>\n      <td>BR</td>\n      <td>-23.78</td>\n      <td>-45.36</td>\n      <td>Ilha Flat Hotel</td>\n    </tr>\n    <tr>\n      <th>472</th>\n      <td>Mahon</td>\n      <td>ES</td>\n      <td>39.89</td>\n      <td>4.27</td>\n      <td>Casa Ládico Boutique Hotel</td>\n    </tr>\n  </tbody>\n</table>\n</div>"
     },
     "metadata": {},
     "execution_count": 116
    }
   ],
   "source": [
    "# Retreiving our hotels data and plotting a data frame from it. \n",
    "hotel_df.drop(hotel_df[hotel_df[\"Hotel Name\"] == \"\"].index, inplace = True)\n",
    "hotel_df = hotel_df.head(10)\n",
    "hotel_df = hotel_df[[\"City\", \"Country\", \"Lat\", \"Lng\", \"Hotel Name\"]]\n",
    "hotel_df"
   ]
  },
  {
   "cell_type": "code",
   "execution_count": 117,
   "metadata": {},
   "outputs": [],
   "source": [
    "# NOTE: Do not change any of the code in this cell\n",
    "\n",
    "# Using the template add the hotel marks to the heatmap\n",
    "info_box_template = \"\"\"\n",
    "<dl>\n",
    "<dt>Name</dt><dd>{Hotel Name}</dd>\n",
    "<dt>City</dt><dd>{City}</dd>\n",
    "<dt>Country</dt><dd>{Country}</dd>\n",
    "</dl>\n",
    "\"\"\"\n",
    "# Storing the DataFrame Row\n",
    "# NOTE: be sure to update with your DataFrame name\n",
    "hotel_info = [info_box_template.format(**row) for index, row in hotel_df.iterrows()]\n",
    "locations = hotel_df[[\"Lat\", \"Lng\"]]"
   ]
  },
  {
   "cell_type": "code",
   "execution_count": 118,
   "metadata": {},
   "outputs": [
    {
     "output_type": "display_data",
     "data": {
      "text/plain": "Figure(layout=FigureLayout(border='1px solid black', height='600px', margin='0 auto 0 auto', padding='1px', wi…",
      "application/vnd.jupyter.widget-view+json": {
       "version_major": 2,
       "version_minor": 0,
       "model_id": "312162034c254d6d815e2b8fd0f7ae97"
      }
     },
     "metadata": {}
    }
   ],
   "source": [
    "# Adding a marker layer at the top of the heat map and displaying our gmap figure. \n",
    "figure_layout = {\"width\": \"900px\",\n",
    "                 \"height\": \"600px\",\n",
    "                 \"border\": \"1px solid black\",\n",
    "                 \"padding\": \"1px\",\n",
    "                 \"margin\": \"0 auto 0 auto\"\n",
    "                 }\n",
    "\n",
    "my_gmap = gmaps.figure(layout=figure_layout, zoom_level=2, center=(15,25))\n",
    "\n",
    "hotel_layer_mark = gmaps.marker_layer(locations, info_box_content=hotel_info)\n",
    "heat_structure = gmaps.heatmap_layer(lat_lng_loc, weights=humidity, \n",
    "                                 dissipating=False, max_intensity=100,\n",
    "                                 point_radius=3.5)\n",
    "\n",
    "my_gmap.add_layer(heat_structure)\n",
    "my_gmap.add_layer(hotel_layer_mark)\n",
    "my_gmap.add_layer(hotel_layer_mark)\n",
    "\n",
    "my_gmap"
   ]
  }
 ],
 "metadata": {
  "kernelspec": {
   "display_name": "Python 3.8.3 64-bit",
   "language": "python",
   "name": "python_defaultSpec_1595675422866"
  },
  "language_info": {
   "codemirror_mode": {
    "name": "ipython",
    "version": 3
   },
   "file_extension": ".py",
   "mimetype": "text/x-python",
   "name": "python",
   "nbconvert_exporter": "python",
   "pygments_lexer": "ipython3",
   "version": "3.7.6"
  },
  "latex_envs": {
   "LaTeX_envs_menu_present": true,
   "autoclose": false,
   "autocomplete": true,
   "bibliofile": "biblio.bib",
   "cite_by": "apalike",
   "current_citInitial": 1,
   "eqLabelWithNumbers": true,
   "eqNumInitial": 1,
   "hotkeys": {
    "equation": "Ctrl-E",
    "itemize": "Ctrl-I"
   },
   "labels_anchors": false,
   "latex_user_defs": false,
   "report_style_numbering": false,
   "user_envs_cfg": false
  }
 },
 "nbformat": 4,
 "nbformat_minor": 2
}